{
 "cells": [
  {
   "cell_type": "code",
   "execution_count": 37,
   "metadata": {},
   "outputs": [
    {
     "name": "stdout",
     "output_type": "stream",
     "text": [
      "The numerical derivative of np.sin(x) at x = np.pi/2 is 0.0\n",
      "The numerical 2nd derivative of np.sin(x) at x = np.pi/2 is -1.000000082740371\n"
     ]
    }
   ],
   "source": [
    "dx = 0.00001\n",
    "x = np.pi/2\n",
    "\n",
    "def f(x):\n",
    "    return(np.sin(x))\n",
    "\n",
    "def dfdx(x, dx, f):\n",
    "    return((f(x+dx)-f(x-dx))/(dx*2))\n",
    "\n",
    "def d2fdx(x, dx, f, dfdx):\n",
    "    return((dfdx(x+dx, dx, f)-dfdx(x-dx, dx, f))/(dx*2))\n",
    "\n",
    "print('The numerical derivative of np.sin(x) at x = np.pi/2 is',dfdx(x,dx,f))\n",
    "print('The numerical 2nd derivative of np.sin(x) at x = np.pi/2 is',d2fdx(x, dx, fx, dfdx))"
   ]
  },
  {
   "cell_type": "code",
   "execution_count": 43,
   "metadata": {},
   "outputs": [
    {
     "name": "stdout",
     "output_type": "stream",
     "text": [
      "5.436563657834625\n",
      "16.309695816119074\n"
     ]
    }
   ],
   "source": [
    "def testfunc1(x):\n",
    "    return(np.exp(x**2))\n",
    "print(dfdx(1,dx,testfunc1))\n",
    "print(d2fdx(1,dx,testfunc1,dfdx))"
   ]
  },
  {
   "cell_type": "code",
   "execution_count": null,
   "metadata": {},
   "outputs": [],
   "source": []
  }
 ],
 "metadata": {
  "kernelspec": {
   "display_name": "Python 3",
   "language": "python",
   "name": "python3"
  },
  "language_info": {
   "codemirror_mode": {
    "name": "ipython",
    "version": 3
   },
   "file_extension": ".py",
   "mimetype": "text/x-python",
   "name": "python",
   "nbconvert_exporter": "python",
   "pygments_lexer": "ipython3",
   "version": "3.7.3"
  }
 },
 "nbformat": 4,
 "nbformat_minor": 2
}
