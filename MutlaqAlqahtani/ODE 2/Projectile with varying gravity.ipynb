{
 "cells": [
  {
   "cell_type": "code",
   "execution_count": 18,
   "metadata": {},
   "outputs": [
    {
     "data": {
      "text/plain": [
       "Text(0.5, 0, 'Range')"
      ]
     },
     "execution_count": 18,
     "metadata": {},
     "output_type": "execute_result"
    },
    {
     "data": {
      "image/png": "[encoded data removed]",
      "text/plain": [
       "<Figure size 432x288 with 1 Axes>"
      ]
     },
     "metadata": {
      "needs_background": "light"
     },
     "output_type": "display_data"
    }
   ],
   "source": [
    "# This program is coded to describe the projectile motion with varying gravity and intial velocities and projectile angle\n",
    "# from the ground with pi/4 angle\n",
    "\n",
    "import numpy as np\n",
    "import matplotlib.pyplot as plt\n",
    "\n",
    "# intial conditions\n",
    "\n",
    "g = 9.8\n",
    "x0 = 0\n",
    "y0 = 0\n",
    "V0 = 100     # intial velocity\n",
    "t0 = 0\n",
    "dt = 0.0001 # step size\n",
    "tmax = 30   # maximum time\n",
    "\n",
    "\n",
    "R = 6371000 # radious of the earth\n",
    "\n",
    "\n",
    "\n",
    "angle = np.pi/4 # projectile angle\n",
    "\n",
    "Vy0 = np.sin(angle)*V0   # intial velocity in the x direction\n",
    "Vx0 = np.cos(angle)*V0   # intial velocity in the y direction\n",
    "\n",
    "\n",
    "# function for the changing gravity \n",
    "def G(yi):\n",
    "    return (-g*(R**2)/((R + yi)**2))\n",
    "\n",
    "\n",
    "# list for time\n",
    "t = [t0]\n",
    "# list for x and y positions \n",
    "x = [x0]\n",
    "y = [y0]\n",
    "# list for x and y velocities\n",
    "Vx = [Vx0]\n",
    "Vy = [Vy0]\n",
    "\n",
    "\n",
    "# creating a loop to calculate the differenial equations for the time and x and y positions and velecites\n",
    "# using the euler method \n",
    "\n",
    "while t[-1] < tmax:\n",
    "    x.append(x[-1] + Vx[-1]*dt)\n",
    "    y.append(y[-1] + Vy[-1]*dt)\n",
    "    Vx.append(Vx[-1])\n",
    "    Vy.append(Vy[-1] + G(y[-1])*dt)\n",
    "    t.append(t[-1] + dt)\n",
    "    \n",
    "    # This condition stops the loop when the object hits the ground\n",
    "    if y[-1] < 0.0001:\n",
    "        t[-1] = tmax\n",
    "\n",
    "\n",
    "\n",
    "plt.plot(x,y)\n",
    "plt.ylabel('Height') # the y-axis represents the height of the projectile\n",
    "plt.xlabel('Range')  # the x-axis represents the range of the projectile"
   ]
  },
  {
   "cell_type": "code",
   "execution_count": 19,
   "metadata": {},
   "outputs": [
    {
     "data": {
      "text/plain": [
       "Text(0.5, 0, 'Range')"
      ]
     },
     "execution_count": 19,
     "metadata": {},
     "output_type": "execute_result"
    },
    {
     "data": {
      "image/png": "[encoded data removed]",
      "text/plain": [
       "<Figure size 432x288 with 1 Axes>"
      ]
     },
     "metadata": {
      "needs_background": "light"
     },
     "output_type": "display_data"
    }
   ],
   "source": [
    "# This program is coded to describe the projectile motion with varying gravity and intial velocities and projectile angle\n",
    "# from 50 m above the ground with pi/4 angle\n",
    "\n",
    "import numpy as np\n",
    "import matplotlib.pyplot as plt\n",
    "\n",
    "# intial conditions\n",
    "\n",
    "g = 9.8\n",
    "x0 = 0\n",
    "y0 = 50\n",
    "V0 = 100     # intial velocity\n",
    "t0 = 0\n",
    "dt = 0.0001 # step size\n",
    "tmax = 30   # maximum time\n",
    "\n",
    "\n",
    "R = 6371000 # radious of the earth\n",
    "\n",
    "\n",
    "\n",
    "angle = np.pi/4 # projectile angle\n",
    "\n",
    "Vy0 = np.sin(angle)*V0   # intial velocity in the x direction\n",
    "Vx0 = np.cos(angle)*V0   # intial velocity in the y direction\n",
    "\n",
    "\n",
    "# function for the changing gravity \n",
    "def G(yi):\n",
    "    return (-g*(R**2)/((R + yi)**2))\n",
    "\n",
    "\n",
    "# list for time\n",
    "t = [t0]\n",
    "# list for x and y positions \n",
    "x = [x0]\n",
    "y = [y0]\n",
    "# list for x and y velocities\n",
    "Vx = [Vx0]\n",
    "Vy = [Vy0]\n",
    "\n",
    "\n",
    "# creating a loop to calculate the differenial equations for the time and x and y positions and velecites\n",
    "# using the euler method \n",
    "\n",
    "while t[-1] < tmax:\n",
    "    x.append(x[-1] + Vx[-1]*dt)\n",
    "    y.append(y[-1] + Vy[-1]*dt)\n",
    "    Vx.append(Vx[-1])\n",
    "    Vy.append(Vy[-1] + G(y[-1])*dt)\n",
    "    t.append(t[-1] + dt)\n",
    "    \n",
    "    # This condition stops the loop when the object hits the ground\n",
    "    if y[-1] < 0.0001:\n",
    "        t[-1] = tmax\n",
    "\n",
    "\n",
    "\n",
    "plt.plot(x,y)\n",
    "plt.ylabel('Height') # the y-axis represents the height of the projectile\n",
    "plt.xlabel('Range')  # the x-axis represents the range of the projectile"
   ]
  },
  {
   "cell_type": "code",
   "execution_count": null,
   "metadata": {},
   "outputs": [],
   "source": []
  }
 ],
 "metadata": {
  "kernelspec": {
   "display_name": "Python 3",
   "language": "python",
   "name": "python3"
  },
  "language_info": {
   "codemirror_mode": {
    "name": "ipython",
    "version": 3
   },
   "file_extension": ".py",
   "mimetype": "text/x-python",
   "name": "python",
   "nbconvert_exporter": "python",
   "pygments_lexer": "ipython3",
   "version": "3.7.3"
  }
 },
 "nbformat": 4,
 "nbformat_minor": 2
}
