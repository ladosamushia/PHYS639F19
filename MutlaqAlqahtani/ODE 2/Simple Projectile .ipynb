{
 "cells": [
  {
   "cell_type": "code",
   "execution_count": 5,
   "metadata": {},
   "outputs": [
    {
     "data": {
      "text/plain": [
       "Text(0.5, 0, 'Range')"
      ]
     },
     "execution_count": 5,
     "metadata": {},
     "output_type": "execute_result"
    },
    {
     "data": {
      "image/png": "[encoded data removed]",
      "text/plain": [
       "<Figure size 432x288 with 1 Axes>"
      ]
     },
     "metadata": {
      "needs_background": "light"
     },
     "output_type": "display_data"
    }
   ],
   "source": [
    "# This program is coded to describe the projectile motion with intial velocity on the y-axis and the x-axis\n",
    "# from the ground \n",
    "\n",
    "\n",
    "import numpy as np\n",
    "import matplotlib.pyplot as plt\n",
    "\n",
    "# intial conditions\n",
    "\n",
    "g = -9.8\n",
    "x0 = 0\n",
    "y0 = 0\n",
    "Vx0 = 80    # intial velocity in the x direction\n",
    "Vy0 = 80    # intial velocity in the y direction \n",
    "t0 = 0\n",
    "dt = 0.0001 # step size\n",
    "tmax = 30   # maximum time\n",
    "\n",
    "# list for time\n",
    "t = [t0]\n",
    "# list for x and y positions \n",
    "x = [x0]\n",
    "y = [y0]\n",
    "# list for x and y velocities\n",
    "Vx = [Vx0]\n",
    "Vy = [Vy0]\n",
    "\n",
    "\n",
    "# creating a loop to calculate the differenial equations for the time and x and y positions and velecites\n",
    "# using the euler method \n",
    "\n",
    "while t[-1] < tmax:\n",
    "    x.append(x[-1] + Vx[-1]*dt)\n",
    "    y.append(y[-1] + Vy[-1]*dt)\n",
    "    Vx.append(Vx[-1])\n",
    "    Vy.append(Vy[-1] + g*y[-1]*dt)\n",
    "    t.append(t[-1] + dt)\n",
    "    \n",
    "    # This condition stops the loop when the object hits the ground\n",
    "    if y[-1] < 0.0001:\n",
    "        t[-1] = tmax\n",
    "\n",
    "\n",
    "\n",
    "plt.plot(x,y)\n",
    "plt.ylabel('Height') # the y-axis represents the height of the projectile\n",
    "plt.xlabel('Range')  # the x-axis represents the range of the projectile\n"
   ]
  },
  {
   "cell_type": "code",
   "execution_count": null,
   "metadata": {},
   "outputs": [],
   "source": []
  }
 ],
 "metadata": {
  "kernelspec": {
   "display_name": "Python 3",
   "language": "python",
   "name": "python3"
  },
  "language_info": {
   "codemirror_mode": {
    "name": "ipython",
    "version": 3
   },
   "file_extension": ".py",
   "mimetype": "text/x-python",
   "name": "python",
   "nbconvert_exporter": "python",
   "pygments_lexer": "ipython3",
   "version": "3.7.3"
  }
 },
 "nbformat": 4,
 "nbformat_minor": 2
}
