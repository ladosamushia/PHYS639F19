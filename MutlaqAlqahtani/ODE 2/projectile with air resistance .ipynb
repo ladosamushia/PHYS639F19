{
 "cells": [
  {
   "cell_type": "code",
   "execution_count": 11,
   "metadata": {},
   "outputs": [
    {
     "name": "stdout",
     "output_type": "stream",
     "text": [
      "Since the velocity is small, the graph might look similar to the simple projectile with no air resistance\n"
     ]
    },
    {
     "data": {
      "text/plain": [
       "Text(0.5, 0, 'Range')"
      ]
     },
     "execution_count": 11,
     "metadata": {},
     "output_type": "execute_result"
    },
    {
     "data": {
      "image/png": "[encoded data removed]",
      "text/plain": [
       "<Figure size 432x288 with 1 Axes>"
      ]
     },
     "metadata": {
      "needs_background": "light"
     },
     "output_type": "display_data"
    }
   ],
   "source": [
    "# This program is coded to describe the projectile motion with a constant air resistance and gravity\n",
    "# as well as intial velocity and angle.\n",
    "# For small intial velocity\n",
    "\n",
    "\n",
    "import numpy as np\n",
    "import matplotlib.pyplot as plt\n",
    "\n",
    "# intial conditions\n",
    "\n",
    "g = 9.8\n",
    "x0 = 0\n",
    "y0 = 0\n",
    "V0 = 10     # intial velocity\n",
    "t0 = 0\n",
    "dt = 0.0001 # step size\n",
    "tmax = 30   # maximum time\n",
    "a = 0.5 # air resistance coef\n",
    "angle = np.pi/3 # projectile angle of 60 degrees which is pi/3 in radians\n",
    "\n",
    "Vy0 = np.sin(angle)*V0   # intial velocity in the x direction\n",
    "Vx0 = np.cos(angle)*V0   # intial velocity in the y direction\n",
    "\n",
    "\n",
    "# functions for the position of y and x\n",
    "def d2ydt(Vyi):\n",
    "    return (-g-a*Vyi)\n",
    "def d2xdt(Vxi):\n",
    "    return (-a*Vxi)\n",
    "\n",
    "\n",
    "# list for time\n",
    "t = [t0]\n",
    "# list for x and y positions \n",
    "x = [x0]\n",
    "y = [y0]\n",
    "# list for x and y velocities\n",
    "Vx = [Vx0]\n",
    "Vy = [Vy0]\n",
    "\n",
    "\n",
    "# creating a loop to calculate the differenial equations for the time and x and y positions and velecites\n",
    "# using the euler method \n",
    "\n",
    "while t[-1] < tmax:\n",
    "    x.append(x[-1] + Vx[-1]*dt)\n",
    "    y.append(y[-1] + Vy[-1]*dt)\n",
    "    Vx.append(Vx[-1] + d2xdt(Vx[-1])*dt)\n",
    "    Vy.append(Vy[-1] + d2ydt(Vy[-1])*dt)\n",
    "    t.append(t[-1] + dt)\n",
    "    \n",
    "    # This condition stops the loop when the object hits the ground\n",
    "    if y[-1] < 0.0001:\n",
    "        t[-1] = tmax\n",
    "\n",
    "\n",
    "print('Since the intial velocity is small, the graph might look similar to the simple projectile with no air resistance')\n",
    "plt.plot(x,y)\n",
    "plt.ylabel('Height') # the y-axis represents the height of the projectile\n",
    "plt.xlabel('Range')  # the x-axis represents the range of the projectile"
   ]
  },
  {
   "cell_type": "code",
   "execution_count": 12,
   "metadata": {},
   "outputs": [
    {
     "name": "stdout",
     "output_type": "stream",
     "text": [
      "Since the intial velocity is large enough, the air resistance plays a greater role in shaping the projectile motion\n"
     ]
    },
    {
     "data": {
      "text/plain": [
       "Text(0.5, 0, 'Range')"
      ]
     },
     "execution_count": 12,
     "metadata": {},
     "output_type": "execute_result"
    },
    {
     "data": {
      "image/png": "[encoded data removed]",
      "text/plain": [
       "<Figure size 432x288 with 1 Axes>"
      ]
     },
     "metadata": {
      "needs_background": "light"
     },
     "output_type": "display_data"
    }
   ],
   "source": [
    "# This program is coded to describe the projectile motion with a constant air resistance and gravity\n",
    "# as well as intial velocity and angle.\n",
    "# For larger intial velocity\n",
    "\n",
    "\n",
    "import numpy as np\n",
    "import matplotlib.pyplot as plt\n",
    "\n",
    "# intial conditions\n",
    "\n",
    "g = 9.8\n",
    "x0 = 0\n",
    "y0 = 0\n",
    "V0 = 100     # intial velocity\n",
    "t0 = 0\n",
    "dt = 0.0001 # step size\n",
    "tmax = 30   # maximum time\n",
    "a = 0.5 # air resistance coef\n",
    "angle = np.pi/3 # projectile angle of 60 degrees which is pi/3 in radians\n",
    "\n",
    "Vy0 = np.sin(angle)*V0   # intial velocity in the x direction\n",
    "Vx0 = np.cos(angle)*V0   # intial velocity in the y direction\n",
    "\n",
    "\n",
    "# functions for the position of y and x\n",
    "def d2ydt(Vyi):\n",
    "    return (-g-a*Vyi)\n",
    "def d2xdt(Vxi):\n",
    "    return (-a*Vxi)\n",
    "\n",
    "\n",
    "# list for time\n",
    "t = [t0]\n",
    "# list for x and y positions \n",
    "x = [x0]\n",
    "y = [y0]\n",
    "# list for x and y velocities\n",
    "Vx = [Vx0]\n",
    "Vy = [Vy0]\n",
    "\n",
    "\n",
    "# creating a loop to calculate the differenial equations for the time and x and y positions and velecites\n",
    "# using the euler method \n",
    "\n",
    "while t[-1] < tmax:\n",
    "    x.append(x[-1] + Vx[-1]*dt)\n",
    "    y.append(y[-1] + Vy[-1]*dt)\n",
    "    Vx.append(Vx[-1] + d2xdt(Vx[-1])*dt)\n",
    "    Vy.append(Vy[-1] + d2ydt(Vy[-1])*dt)\n",
    "    t.append(t[-1] + dt)\n",
    "    \n",
    "    # This condition stops the loop when the object hits the ground\n",
    "    if y[-1] < 0.0001:\n",
    "        t[-1] = tmax\n",
    "\n",
    "\n",
    "print('Since the intial velocity is large enough, the air resistance plays a greater role in shaping the projectile motion')\n",
    "plt.plot(x,y)\n",
    "plt.ylabel('Height') # the y-axis represents the height of the projectile\n",
    "plt.xlabel('Range')  # the x-axis represents the range of the projectile"
   ]
  },
  {
   "cell_type": "code",
   "execution_count": null,
   "metadata": {},
   "outputs": [],
   "source": []
  }
 ],
 "metadata": {
  "kernelspec": {
   "display_name": "Python 3",
   "language": "python",
   "name": "python3"
  },
  "language_info": {
   "codemirror_mode": {
    "name": "ipython",
    "version": 3
   },
   "file_extension": ".py",
   "mimetype": "text/x-python",
   "name": "python",
   "nbconvert_exporter": "python",
   "pygments_lexer": "ipython3",
   "version": "3.7.3"
  }
 },
 "nbformat": 4,
 "nbformat_minor": 2
}
