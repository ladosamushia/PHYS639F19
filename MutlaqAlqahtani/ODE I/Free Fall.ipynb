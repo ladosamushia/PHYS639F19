{
 "cells": [
  {
   "cell_type": "code",
   "execution_count": 2,
   "metadata": {},
   "outputs": [
    {
     "data": {
      "text/plain": [
       "[<matplotlib.lines.Line2D at 0x1964e1bebe0>]"
      ]
     },
     "execution_count": 2,
     "metadata": {},
     "output_type": "execute_result"
    },
    {
     "data": {
      "image/png": "[encoded data removed]",
      "text/plain": [
       "<Figure size 432x288 with 1 Axes>"
      ]
     },
     "metadata": {
      "needs_background": "light"
     },
     "output_type": "display_data"
    }
   ],
   "source": [
    "# This code solves the free fall differencial equation with air resistance for variable intial velocity and air resistance.\n",
    "\n",
    "\n",
    "\n",
    "\n",
    "import numpy as np\n",
    "import matplotlib.pyplot as plt\n",
    "%matplotlib inline\n",
    "import math\n",
    "\n",
    "# Initial conditions\n",
    "g = 9.8  # gravity constant\n",
    "dt = 0.0001 # step\n",
    "t0 = 0 # intial time\n",
    "tmax = 10 # maximum time\n",
    "\n",
    "\n",
    "# The function for free fall with air resistance a\n",
    "def dvdt(v, a):\n",
    "    return(-g - a*v )\n",
    "\n",
    "\n",
    "\n",
    "# The integration for variable intial velocity 'v0' and air resistance 'a'\n",
    "def integral(v0, a):\n",
    "    t = [t0]\n",
    "    v = [v0]\n",
    "    while t[-1] < tmax:\n",
    "        v.append(v[-1] + dvdt(v[-1], a)*dt)\n",
    "        t.append(t[-1] + dt)\n",
    "    return t, v\n",
    "\n",
    "# Tests\n",
    "\n",
    "t1, v1 = integral(10, 0.1)\n",
    "t2, v2 = integral(10, 1)\n",
    "t3, v3 = integral(5, 1)\n",
    "plt.plot(t1, v1, 'red')\n",
    "plt.plot(t2, v2, 'green')\n",
    "plt.plot(t3, v3, 'blue')"
   ]
  },
  {
   "cell_type": "code",
   "execution_count": null,
   "metadata": {},
   "outputs": [],
   "source": []
  }
 ],
 "metadata": {
  "kernelspec": {
   "display_name": "Python 3",
   "language": "python",
   "name": "python3"
  },
  "language_info": {
   "codemirror_mode": {
    "name": "ipython",
    "version": 3
   },
   "file_extension": ".py",
   "mimetype": "text/x-python",
   "name": "python",
   "nbconvert_exporter": "python",
   "pygments_lexer": "ipython3",
   "version": "3.7.3"
  }
 },
 "nbformat": 4,
 "nbformat_minor": 2
}
