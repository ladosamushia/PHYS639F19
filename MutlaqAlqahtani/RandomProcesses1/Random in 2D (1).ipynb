{
 "cells": [
  {
   "cell_type": "code",
   "execution_count": 5,
   "metadata": {},
   "outputs": [
    {
     "data": {
      "text/plain": [
       "Text(0, 0.5, 'Y')"
      ]
     },
     "execution_count": 5,
     "metadata": {},
     "output_type": "execute_result"
    },
    {
     "data": {
      "image/png": "[encoded data removed]",
      "text/plain": [
       "<Figure size 432x288 with 1 Axes>"
      ]
     },
     "metadata": {
      "needs_background": "light"
     },
     "output_type": "display_data"
    }
   ],
   "source": [
    "# This program is coded to describe the random motion of a particle in 2D with equal probabilities for moving up, down, right, and left\n",
    "\n",
    "\n",
    "import numpy as np\n",
    "import matplotlib.pyplot as plt\n",
    "%matplotlib inline\n",
    "\n",
    "Nsteps = 1000    # number of steps\n",
    "x = 0            # intial position on the x axis\n",
    "y = 0            # intial position on the y axis \n",
    "\n",
    "# lists to contain the x and y positions\n",
    "xlist = [x]      \n",
    "ylist = [y]\n",
    "\n",
    "\n",
    "\n",
    "# a loop for the paths of the particle\n",
    "\n",
    "for i in range(Nsteps):\n",
    "    step = np.random.choice([1,2,3,4])   # random steps with equal probabilities\n",
    "    \n",
    "    if step == 1:                        # probabilty of moving to the right\n",
    "        x += 1\n",
    "    elif step == 2:                      # probabilty of moving to the left\n",
    "        x -= 1\n",
    "    elif step == 3:                      # probabilty of moving up\n",
    "        y += 1\n",
    "    elif step == 4:                      # probabilty of moving down\n",
    "        y -= 1\n",
    "    \n",
    "    \n",
    "    xlist.append(x)\n",
    "    ylist.append(y)\n",
    "    \n",
    "plt.plot(xlist, ylist)\n",
    "plt.xlabel(\"X\")\n",
    "plt.ylabel(\"Y\")"
   ]
  },
  {
   "cell_type": "code",
   "execution_count": 6,
   "metadata": {},
   "outputs": [
    {
     "data": {
      "text/plain": [
       "Text(0, 0.5, 'Y')"
      ]
     },
     "execution_count": 6,
     "metadata": {},
     "output_type": "execute_result"
    },
    {
     "data": {
      "image/png": "[encoded data removed]",
      "text/plain": [
       "<Figure size 432x288 with 1 Axes>"
      ]
     },
     "metadata": {
      "needs_background": "light"
     },
     "output_type": "display_data"
    }
   ],
   "source": [
    "# I have written it again to show the randomness of the motion\n",
    "\n",
    "import numpy as np\n",
    "import matplotlib.pyplot as plt\n",
    "%matplotlib inline\n",
    "\n",
    "Nsteps = 1000    # number of steps\n",
    "x = 0            # intial position on the x axis\n",
    "y = 0            # intial position on the y axis \n",
    "\n",
    "# lists to contain the x and y positions\n",
    "xlist = [x]      \n",
    "ylist = [y]\n",
    "\n",
    "\n",
    "\n",
    "# a loop for the paths of the particle\n",
    "\n",
    "for i in range(Nsteps):\n",
    "    step = np.random.choice([1,2,3,4])   # random steps with equal probabilities\n",
    "    \n",
    "    if step == 1:                        # probabilty of moving to the right\n",
    "        x += 1\n",
    "    elif step == 2:                      # probabilty of moving to the left\n",
    "        x -= 1\n",
    "    elif step == 3:                      # probabilty of moving up\n",
    "        y += 1\n",
    "    elif step == 4:                      # probabilty of moving down\n",
    "        y -= 1\n",
    "    \n",
    "    \n",
    "    xlist.append(x)\n",
    "    ylist.append(y)\n",
    "    \n",
    "plt.plot(xlist, ylist)\n",
    "plt.xlabel(\"X\")\n",
    "plt.ylabel(\"Y\")"
   ]
  },
  {
   "cell_type": "code",
   "execution_count": 9,
   "metadata": {},
   "outputs": [
    {
     "data": {
      "text/plain": [
       "Text(0, 0.5, 'Y')"
      ]
     },
     "execution_count": 9,
     "metadata": {},
     "output_type": "execute_result"
    },
    {
     "data": {
      "image/png": "[encoded data removed]",
      "text/plain": [
       "<Figure size 432x288 with 1 Axes>"
      ]
     },
     "metadata": {
      "needs_background": "light"
     },
     "output_type": "display_data"
    }
   ],
   "source": [
    "# This program is coded to describe the random motion of a particle in 2D with defferant probabilities for moving up, down, right, and left\n",
    "\n",
    "\n",
    "import numpy as np\n",
    "import matplotlib.pyplot as plt\n",
    "%matplotlib inline\n",
    "\n",
    "Nsteps = 1000    # number of steps\n",
    "x = 0            # intial position on the x axis\n",
    "y = 0            # intial position on the y axis \n",
    "\n",
    "# lists to contain the x and y positions\n",
    "xlist = [x]      \n",
    "ylist = [y]\n",
    "\n",
    "\n",
    "\n",
    "# a loop for the paths of the particle\n",
    "\n",
    "for i in range(Nsteps):\n",
    "    step = np.random.choice([1,2,3,4], p = [0.3,0.2,0.3,0.2])   # random steps with different probabilitie \n",
    "    \n",
    "    # the probabilities are higher for the particle to move up and right\n",
    "    \n",
    "    \n",
    "    if step == 1:                        # probabilty of moving to the right\n",
    "        x += 1\n",
    "    elif step == 2:                      # probabilty of moving to the left\n",
    "        x -= 1\n",
    "    elif step == 3:                      # probabilty of moving up\n",
    "        y += 1\n",
    "    elif step == 4:                      # probabilty of moving down\n",
    "        y -= 1\n",
    "    \n",
    "    \n",
    "    xlist.append(x)\n",
    "    ylist.append(y)\n",
    "    \n",
    "plt.plot(xlist, ylist)\n",
    "plt.xlabel(\"X\")\n",
    "plt.ylabel(\"Y\")"
   ]
  },
  {
   "cell_type": "code",
   "execution_count": 10,
   "metadata": {},
   "outputs": [
    {
     "data": {
      "text/plain": [
       "Text(0, 0.5, 'Y')"
      ]
     },
     "execution_count": 10,
     "metadata": {},
     "output_type": "execute_result"
    },
    {
     "data": {
      "image/png": "[encoded data removed]",
      "text/plain": [
       "<Figure size 432x288 with 1 Axes>"
      ]
     },
     "metadata": {
      "needs_background": "light"
     },
     "output_type": "display_data"
    }
   ],
   "source": [
    "# This program is coded to describe the random motion of a particle in 2D with defferant probabilities for moving up, down, right, and left\n",
    "\n",
    "\n",
    "import numpy as np\n",
    "import matplotlib.pyplot as plt\n",
    "%matplotlib inline\n",
    "\n",
    "Nsteps = 1000    # number of steps\n",
    "x = 0            # intial position on the x axis\n",
    "y = 0            # intial position on the y axis \n",
    "\n",
    "# lists to contain the x and y positions\n",
    "xlist = [x]      \n",
    "ylist = [y]\n",
    "\n",
    "\n",
    "\n",
    "# a loop for the paths of the particle\n",
    "\n",
    "for i in range(Nsteps):\n",
    "    step = np.random.choice([1,2,3,4], p = [0.2,0.3,0.2,0.3])   # random steps with different probabilitie \n",
    "    \n",
    "    # the probabilities are higher for the particle to move down and left\n",
    "    \n",
    "    \n",
    "    if step == 1:                        # probabilty of moving to the right\n",
    "        x += 1\n",
    "    elif step == 2:                      # probabilty of moving to the left\n",
    "        x -= 1\n",
    "    elif step == 3:                      # probabilty of moving up\n",
    "        y += 1\n",
    "    elif step == 4:                      # probabilty of moving down\n",
    "        y -= 1\n",
    "    \n",
    "    \n",
    "    xlist.append(x)\n",
    "    ylist.append(y)\n",
    "    \n",
    "plt.plot(xlist, ylist)\n",
    "plt.xlabel(\"X\")\n",
    "plt.ylabel(\"Y\")"
   ]
  },
  {
   "cell_type": "code",
   "execution_count": null,
   "metadata": {},
   "outputs": [],
   "source": []
  }
 ],
 "metadata": {
  "kernelspec": {
   "display_name": "Python 3",
   "language": "python",
   "name": "python3"
  },
  "language_info": {
   "codemirror_mode": {
    "name": "ipython",
    "version": 3
   },
   "file_extension": ".py",
   "mimetype": "text/x-python",
   "name": "python",
   "nbconvert_exporter": "python",
   "pygments_lexer": "ipython3",
   "version": "3.7.3"
  }
 },
 "nbformat": 4,
 "nbformat_minor": 2
}
