{
 "cells": [
  {
   "cell_type": "code",
   "execution_count": 1,
   "metadata": {},
   "outputs": [
    {
     "name": "stdout",
     "output_type": "stream",
     "text": [
      "the result of the second derivative is -1.0000000827403708\n",
      "the obtained result is very close to the true value of -1\n"
     ]
    }
   ],
   "source": [
    "# this code is written to compute the numerical second derivative of the function f=cosx\n",
    "# testing it with different values shown to be effective\n",
    "import numpy as np\n",
    "\n",
    "x=0     # the point where intergation will take place\n",
    "\n",
    "dx=0.00001 # a small step from the points\n",
    "x1=-0.001  # an adjacent point on the x-axis \n",
    "x2=0.001   # another adjacent point on the x-axis\n",
    "\n",
    "\n",
    "f=np.cos # the function\n",
    "\n",
    "f1 = f(x-dx) # an adjacent point on the y-axis\n",
    "f2 = f(x+dx) # another adjacent point on the y-axis\n",
    "\n",
    "\n",
    "df = (f2-f1)/(2*dx) # the first derivative\n",
    "\n",
    "d2f = (f1-2*f(x)+f2)/((dx)*(dx)) # the second derivative\n",
    "\n",
    "\n",
    "print(\"the result of the second derivative is\", d2f)\n",
    "print(\"the obtained result is very close to the true value of -1\")"
   ]
  }
 ],
 "metadata": {
  "kernelspec": {
   "display_name": "Python 3",
   "language": "python",
   "name": "python3"
  },
  "language_info": {
   "codemirror_mode": {
    "name": "ipython",
    "version": 3
   },
   "file_extension": ".py",
   "mimetype": "text/x-python",
   "name": "python",
   "nbconvert_exporter": "python",
   "pygments_lexer": "ipython3",
   "version": "3.7.3"
  }
 },
 "nbformat": 4,
 "nbformat_minor": 2
}
