{
 "cells": [
  {
   "cell_type": "code",
   "execution_count": 4,
   "metadata": {},
   "outputs": [
    {
     "name": "stdout",
     "output_type": "stream",
     "text": [
      "the result of the dirivitave is  0.9999998333333416\n",
      "the obtained result is very close to the true value of 1\n"
     ]
    }
   ],
   "source": [
    "# this code is written to compute the numerical first derivative of the function f=sinx\n",
    "# testing it with different values p\n",
    "import numpy as np\n",
    "\n",
    "x=0     # the point where intergation will take place\n",
    "\n",
    "\n",
    "x1=-0.001  # an adjacent point on the x-axis \n",
    "x2=0.001   # another adjacent point on the x-axis\n",
    "\n",
    "\n",
    "f=np.sin   # the function\n",
    "\n",
    "f1 = f(x1) # an adjacent point on the y-axis\n",
    "f2 = f(x2) # another adjacent point on the y-axis\n",
    "\n",
    "\n",
    "df = (f2-f1)/(x2-x1) # the derivative\n",
    "\n",
    "\n",
    "print(\"the result of the dirivitave is \", df)\n",
    "print(\"the obtained result is very close to the true value of 1\")"
   ]
  },
  {
   "cell_type": "code",
   "execution_count": null,
   "metadata": {},
   "outputs": [],
   "source": []
  }
 ],
 "metadata": {
  "kernelspec": {
   "display_name": "Python 3",
   "language": "python",
   "name": "python3"
  },
  "language_info": {
   "codemirror_mode": {
    "name": "ipython",
    "version": 3
   },
   "file_extension": ".py",
   "mimetype": "text/x-python",
   "name": "python",
   "nbconvert_exporter": "python",
   "pygments_lexer": "ipython3",
   "version": "3.7.3"
  }
 },
 "nbformat": 4,
 "nbformat_minor": 2
}
